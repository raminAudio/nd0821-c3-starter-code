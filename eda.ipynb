{
 "cells": [
  {
   "cell_type": "markdown",
   "id": "98b7aee3",
   "metadata": {},
   "source": [
    "Cleaning and Analyzing the original CSV file "
   ]
  },
  {
   "cell_type": "code",
   "execution_count": null,
   "id": "dff68af7",
   "metadata": {},
   "outputs": [],
   "source": [
    "import pandas as pd\n",
    "from pandas_profiling import ProfileReport"
   ]
  },
  {
   "cell_type": "code",
   "execution_count": null,
   "id": "3bbf9427",
   "metadata": {
    "scrolled": true
   },
   "outputs": [],
   "source": [
    "df = pd.read_csv('data/census.csv')\n",
    "profile = ProfileReport(df, title=\"Pandas Profiling Report\")\n",
    "profile"
   ]
  },
  {
   "cell_type": "code",
   "execution_count": null,
   "id": "2420e1b3",
   "metadata": {},
   "outputs": [],
   "source": [
    "# Fix space issues in the column names\n",
    "cols = []\n",
    "for col in df.columns:\n",
    "    cols.append(col.replace(' ',''))\n",
    "df.columns = cols"
   ]
  },
  {
   "cell_type": "code",
   "execution_count": null,
   "id": "c9f88b20",
   "metadata": {},
   "outputs": [],
   "source": [
    "# fix space issues in the column values\n",
    "for col in df.columns: \n",
    "    df[col] = df[col].apply(lambda x : str(x).replace(' ',''))\n",
    "# dropping duplicate rows  \n",
    "df.drop_duplicates(keep='first', inplace=True)"
   ]
  },
  {
   "cell_type": "code",
   "execution_count": null,
   "id": "8aacac57",
   "metadata": {},
   "outputs": [],
   "source": [
    "df.reset_index(drop=True, inplace=True)"
   ]
  },
  {
   "cell_type": "code",
   "execution_count": null,
   "id": "6a08b5a0",
   "metadata": {},
   "outputs": [],
   "source": [
    "profile = ProfileReport(df, title=\"Pandas Profiling Report\", minimal=True)"
   ]
  },
  {
   "cell_type": "code",
   "execution_count": null,
   "id": "bbeb0b4a",
   "metadata": {},
   "outputs": [],
   "source": [
    "df.to_csv('data/census_clean.csv')"
   ]
  },
  {
   "cell_type": "code",
   "execution_count": null,
   "id": "2ad5e02c",
   "metadata": {},
   "outputs": [],
   "source": [
    "# saving a copy of the profile report to the data folder \n",
    "# profile.to_file(\"data/cleaned_census.html\")\n"
   ]
  },
  {
   "cell_type": "code",
   "execution_count": null,
   "id": "f3c7582e",
   "metadata": {},
   "outputs": [],
   "source": [
    "df = pd.read_csv('data/census_clean.csv').drop('Unnamed: 0',axis=1)"
   ]
  },
  {
   "cell_type": "code",
   "execution_count": null,
   "id": "fd63ac9b",
   "metadata": {},
   "outputs": [],
   "source": []
  }
 ],
 "metadata": {
  "kernelspec": {
   "display_name": "Python 3 (ipykernel)",
   "language": "python",
   "name": "python3"
  },
  "language_info": {
   "codemirror_mode": {
    "name": "ipython",
    "version": 3
   },
   "file_extension": ".py",
   "mimetype": "text/x-python",
   "name": "python",
   "nbconvert_exporter": "python",
   "pygments_lexer": "ipython3",
   "version": "3.8.12"
  }
 },
 "nbformat": 4,
 "nbformat_minor": 5
}
